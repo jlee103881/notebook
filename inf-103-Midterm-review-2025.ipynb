{
 "cells": [
  {
   "cell_type": "markdown",
   "id": "4bda35e9",
   "metadata": {},
   "source": [
    "## Welcome to the Comprehensive Review for INF-103 Midterm.\n",
    "This review should not be used as a substitute for reading the chapters. The reading will provide the detail necessary to understand the chapters content.\n",
    "This review is delivered as a Jupyter notebook. Jupyter notebooks allow us to write text and code examples in separate \"boxes\". The code you will see in this review can be executed right in this notebook.\n",
    "\n",
    "The notebook is normally tied to a Jupyter server. You have a Jupyter server right on your computer if you loaded the Anaconda distribution of Python. However instead of using your local servers, we are delivering this notebook via a container. Containers are lightweight, portable units that package software and all its dependencies, ensuring it runs consistently across different environments. Popular container platforms like Docker allow developers to bundle code, libraries, and system tools together, making deployment and scaling easier and more reliable.\n",
    "\n",
    "Binder.org is a free online service that lets you create and share interactive, reproducible computing environments from code repositories (like GitHub). With Binder, users can launch Jupyter notebooks and other tools in a browser, without installing anything locally. It uses containers to build and run these environments, making collaboration and sharing seamless. The container technology we are using is delivered via binder.org.  Our review is a Jupyter notebook within a container which also contains the operating system and version of Python to run the codeboxes. "
   ]
  },
  {
   "cell_type": "markdown",
   "id": "ac7f62d9",
   "metadata": {},
   "source": [
    "# Introduction to Jupyter Notebooks\n",
    "\n",
    "Jupyter notebooks are interactive documents that combine code, text, and visualizations in a single file. They are widely used for learning, teaching, data analysis, and prototyping.\n",
    "\n",
    "**Benefits of Using Jupyter Notebooks:**\n",
    "- Run code and see results instantly, making experimentation easy.\n",
    "- Mix explanations, code, and output for clear documentation.\n",
    "- Visualize data directly within the notebook.\n",
    "- Share work easily with others.\n",
    "\n",
    "**Notebook Controls and Code Boxes:**\n",
    "- Each code box (cell) can be run independently by clicking the \"Run\" button or pressing `Shift+Enter`.\n",
    "- You can edit code cells and re-run them as many times as you like.\n",
    "- Markdown cells (like this one) are for formatted text, explanations, and instructions.\n",
    "- Use the toolbar to add, delete, or move cells.\n",
    "- Outputs appear directly below the code cell after execution.\n",
    "\n",
    "Explore, experiment, and enjoy learning Python interactively!"
   ]
  },
  {
   "cell_type": "markdown",
   "id": "fce58ed7",
   "metadata": {},
   "source": [
    "## Chapter 1: A Taste of Python\n",
    "\n",
    "**Core Takeaways:**\n",
    "\n",
    "- Python is a high-level, interpreted programming language.\n",
    "- It emphasizes readability and simplicity.\n",
    "- Python is widely used for web development, data analysis, automation, and more.\n",
    "- Python is full of mysteries and surprises—explore and experiment!\n",
    "\n",
    "**Key Concepts Introduced:**\n",
    "\n",
    "- Mysteries: Python's design choices and quirks.\n",
    "- Little Python Programs: Write and run simple scripts to learn.\n",
    "- Setup: Download and install Python from python.org.\n",
    "- Install Python: Choose the right version for your OS (Windows, Mac, Linux).\n",
    "- Upgrade Python: Use installers or package managers to update.\n",
    "- Run Python Programs: Use the interactive shell (REPL), run `.py` files from the command line, or use IDEs like VS Code.\n",
    "- Show More Items: Use `print()` and explore built-in functions to display results.\n",
    "- Built-In Python Features: Data types, operators, control flow, and more.\n",
    "- The Python Standard Library: Modules for math, dates, files, web, and more (`import math`, `import datetime`, etc.).\n",
    "- Third-Party Python Packages: Extend Python with `pip install package_name` (e.g., `numpy`, `requests`).\n",
    "\n",
    "**Example:**"
   ]
  },
  {
   "cell_type": "code",
   "execution_count": 1,
   "id": "f5927f2d",
   "metadata": {},
   "outputs": [
    {
     "name": "stdout",
     "output_type": "stream",
     "text": [
      "Hello, world!\n",
      "5\n",
      "2.5\n"
     ]
    }
   ],
   "source": [
    "# Basic arithmetic and printing\n",
    "print('Hello, world!')\n",
    "print(2 + 3)\n",
    "print(5 / 2)  # Division returns a float"
   ]
  },
  {
   "cell_type": "markdown",
   "id": "a802f6a1",
   "metadata": {},
   "source": [
    "**Try it yourself:**\n",
    "\n",
    "Change the numbers in the code cell above and observe the output. Try using other operators like `*` (multiplication) and `-` (subtraction).\n",
    "\n",
    "---\n",
    "\n",
    "### Additional Notes\n",
    "\n",
    "- Python files use the `.py` extension.\n",
    "- You can run Python scripts from the command line using `python filename.py`.\n",
    "- Python ignores whitespace at the beginning of a line (indentation) to define code blocks.\n",
    "- Comments are ignored by Python and are useful for explaining code.\n",
    "\n",
    "**Common Mistakes:**\n",
    "- Forgetting colons `:` after statements like `if`, `for`, and `def`.\n",
    "- Mixing tabs and spaces for indentation.\n",
    "- Misspelling keywords or variable names.\n",
    "\n",
    "### Quick Quiz\n",
    "\n",
    "1. What function do you use to display output in Python?\n",
    "2. What symbol is used for comments?\n",
    "3. What happens if you mix tabs and spaces in your code?\n",
    "\n",
    "---\n",
    "\n",
    "Ready to move on to Chapter 2?"
   ]
  },
  {
   "cell_type": "markdown",
   "id": "2e576a7e",
   "metadata": {},
   "source": [
    "## Chapter 2: Types, Variables, and Input\n",
    "\n",
    "**Core Takeaways:**\n",
    "\n",
    "- Python uses variables to store data.\n",
    "- Data types include integers, floats, strings, and booleans.\n",
    "- You can convert between types using functions like `int()`, `float()`, and `str()`.\n",
    "- The `input()` function allows user input.\n",
    "\n",
    "**Key Concepts Introduced:**\n",
    "\n",
    "- Variable assignment and naming rules\n",
    "- Type conversion\n",
    "- String concatenation\n",
    "- Getting input from users\n",
    "- Basic error handling with input\n",
    "\n",
    "**Example:**"
   ]
  },
  {
   "cell_type": "code",
   "execution_count": null,
   "id": "7bf7da54",
   "metadata": {},
   "outputs": [
    {
     "name": "stdout",
     "output_type": "stream",
     "text": [
      "Hello, John! You are 32 years old.\n"
     ]
    }
   ],
   "source": [
    "# Variable assignment and input\n",
    "user_name = input('What is your name? ')\n",
    "user_age = int(input('How old are you? '))\n",
    "print('Hello, ' + user_name + '! You are ' + str(user_age) + ' years old.')"
   ]
  },
  {
   "cell_type": "markdown",
   "id": "7a8dd355",
   "metadata": {},
   "source": [
    "**Try it yourself:**\n",
    "\n",
    "Run the code cell above. Enter your name and age when prompted. Try changing the variable names or the message printed.\n",
    "\n",
    "---\n",
    "\n",
    "### Additional Notes\n",
    "\n",
    "- Variable names should start with a letter or underscore and can contain letters, numbers, and underscores.\n",
    "- Use `type()` to check the type of a variable.\n",
    "- Use `str()`, `int()`, and `float()` to convert between types.\n",
    "- The `input()` function always returns a string.\n",
    "\n",
    "**Common Mistakes:**\n",
    "- Forgetting to convert input to the correct type.\n",
    "- Using invalid variable names.\n",
    "- Concatenating strings and numbers without conversion.\n",
    "\n",
    "### Quick Quiz\n",
    "\n",
    "1. What function do you use to get user input?\n",
    "2. How do you convert a string to an integer?\n",
    "3. What happens if you try to add a string and an integer without conversion?\n",
    "\n",
    "---\n",
    "\n",
    "Ready to move on to Chapter 3?"
   ]
  },
  {
   "cell_type": "markdown",
   "id": "c5495afb",
   "metadata": {},
   "source": [
    "## Chapter 3: Numbers\n",
    "\n",
    "**Core Takeaways:**\n",
    "\n",
    "- Python supports several numeric types: integers, floats, booleans, fractions, and decimals.\n",
    "- Floats are not always exact due to binary representation.\n",
    "- The `math`, `fractions`, and `decimal` modules provide advanced numeric operations.\n",
    "\n",
    "**Key Concepts Introduced:**\n",
    "\n",
    "- Integers (`int`), floating-point numbers (`float`), booleans (`True`, `False`)\n",
    "- Fractions (`fractions.Fraction`)\n",
    "- Decimals (`decimal.Decimal`)\n",
    "- Basic math functions: `abs()`, `round()`, `pow()`, `min()`, `max()`\n",
    "- Using the `math` module for advanced math: `math.sqrt()`, `math.sin()`, etc.\n",
    "- Floating-point precision issues\n",
    "\n",
    "**Examples:**"
   ]
  },
  {
   "cell_type": "code",
   "execution_count": 9,
   "id": "2af114b0",
   "metadata": {},
   "outputs": [
    {
     "name": "stdout",
     "output_type": "stream",
     "text": [
      "Integer: 5\n",
      "Float: 2.5\n",
      "Boolean: True\n"
     ]
    }
   ],
   "source": [
    "# Integers, floats, booleans\n",
    "integer_value = 5\n",
    "float_value = 2.5\n",
    "boolean_flag = True\n",
    "print('Integer:', integer_value)\n",
    "print('Float:', float_value)\n",
    "print('Boolean:', boolean_flag)"
   ]
  },
  {
   "cell_type": "code",
   "execution_count": null,
   "id": "7129efc7",
   "metadata": {},
   "outputs": [],
   "source": [
    "# Fractions and decimals\n",
    "from fractions import Fraction\n",
    "from decimal import Decimal\n",
    "fraction_value = Fraction(1, 3)\n",
    "decimal_value = Decimal('0.1')\n",
    "print('Fraction:', fraction_value)\n",
    "print('Decimal:', decimal_value)"
   ]
  },
  {
   "cell_type": "code",
   "execution_count": null,
   "id": "535861e4",
   "metadata": {},
   "outputs": [],
   "source": [
    "# Basic math functions\n",
    "print('Absolute:', abs(-7))\n",
    "print('Rounded:', round(2.345, 2))\n",
    "print('Power:', pow(2, 3))\n",
    "print('Min:', min(3, 7, 2))\n",
    "print('Max:', max(3, 7, 2))"
   ]
  },
  {
   "cell_type": "code",
   "execution_count": null,
   "id": "582f943a",
   "metadata": {},
   "outputs": [],
   "source": [
    "# Using the math module for advanced math\n",
    "import math\n",
    "print('Square root:', math.sqrt(16))"
   ]
  },
  {
   "cell_type": "code",
   "execution_count": null,
   "id": "5a85d02b",
   "metadata": {},
   "outputs": [],
   "source": [
    "# Floating-point precision issue\n",
    "print('0.1 + 0.2 == 0.3:', 0.1 + 0.2 == 0.3)"
   ]
  },
  {
   "cell_type": "code",
   "execution_count": null,
   "id": "38999c01",
   "metadata": {},
   "outputs": [
    {
     "name": "stdout",
     "output_type": "stream",
     "text": [
      "1\n"
     ]
    }
   ],
   "source": [
    "from fractions import Fraction\n",
    "a = Fraction(1, 3)\n",
    "b = Fraction(2, 3)\n",
    "result = a + b\n",
    "print(result)  # Output: 1"
   ]
  },
  {
   "cell_type": "markdown",
   "id": "361f4d1f",
   "metadata": {},
   "source": [
    "from fractions import Fraction\n",
    "fraction_one_third = Fraction(1, 3)\n",
    "fraction_two_thirds = Fraction(2, 3)\n",
    "fraction_sum = fraction_one_third + fraction_two_thirds\n",
    "print(fraction_sum)  # Output: 1put: 1s not exactly equal `0.3` due to floating-point precision.\n",
    "\n",
    "---\n",
    "\n",
    "### Additional Notes\n",
    "\n",
    "- Use `Fraction` for exact rational arithmetic.\n",
    "- Use `Decimal` for precise decimal arithmetic, especially with money.\n",
    "- Booleans are a subtype of integers: `True` is `1`, `False` is `0`.\n",
    "- The `math` module provides many mathematical functions.\n",
    "\n",
    "**Common Mistakes:**\n",
    "- Expecting floats to be exact.\n",
    "- Forgetting to import modules before using them.\n",
    "- Mixing types without conversion.\n",
    "\n",
    "### Quick Quiz\n",
    "\n",
    "1. What module provides exact fractions?\n",
    "2. Why are floats not always exact?\n",
    "3. How do you round a number to two decimal places?\n",
    "\n",
    "---\n",
    "\n",
    "Ready to move on to Chapter 4?"
   ]
  },
  {
   "cell_type": "markdown",
   "id": "46e73031",
   "metadata": {},
   "source": [
    "## Chapter 4: Strings\n",
    "\n",
    "**Core Takeaways:**\n",
    "\n",
    "- Strings are sequences of characters, created with quotes or the `str()` function.\n",
    "- Strings can be manipulated, combined, sliced, and searched using built-in methods and operators.\n",
    "- Python provides many powerful tools for working with text data.\n",
    "\n",
    "**Key Concepts Introduced:**\n",
    "\n",
    "- Create with quotes (`'hello'`, \"world\") and `str()`\n",
    "- Escape characters with `\\`\n",
    "- Combine strings with `+`\n",
    "- Duplicate strings with `*`\n",
    "- Get a character by `[offset]`\n",
    "- Get a substring with a slice `[start:end]`\n",
    "- Get length with `len()`\n",
    "- Split with `split()`\n",
    "- Combine with `join()`\n",
    "- Substitute with `replace()`\n",
    "- Work with prefixes and suffixes (`startswith()`, `endswith()`)\n",
    "- Strip whitespace with `strip()`\n",
    "- Search and select (`find()`, `in`)\n",
    "- Change case (`upper()`, `lower()`, `title()`)\n",
    "- Set alignment (`center()`, `ljust()`, `rjust()`)\n",
    "\n",
    "**Examples:**"
   ]
  },
  {
   "cell_type": "code",
   "execution_count": null,
   "id": "007a56de",
   "metadata": {},
   "outputs": [
    {
     "name": "stdout",
     "output_type": "stream",
     "text": [
      "Hello World 123\n"
     ]
    }
   ],
   "source": [
    "# Create with quotes and str()\n",
    "string_hello = 'Hello'\n",
    "string_world = \"World\"\n",
    "string_number = str(123)\n",
    "print(string_hello, string_world, string_number)"
   ]
  },
  {
   "cell_type": "code",
   "execution_count": null,
   "id": "2da36f99",
   "metadata": {},
   "outputs": [
    {
     "name": "stdout",
     "output_type": "stream",
     "text": [
      "It's Python!\n"
     ]
    }
   ],
   "source": [
    "# Escape with \\\n",
    "escaped_string = 'It\\'s Python!'\n",
    "print(escaped_string)"
   ]
  },
  {
   "cell_type": "code",
   "execution_count": null,
   "id": "f4a24594",
   "metadata": {},
   "outputs": [
    {
     "name": "stdout",
     "output_type": "stream",
     "text": [
      "Combined: Hello World\n",
      "Duplicated: Hi! Hi! Hi! \n"
     ]
    }
   ],
   "source": [
    "# Combine with + and duplicate with *\n",
    "combined_string = 'Hello' + ' ' + 'World'\n",
    "duplicated_string = 'Hi! ' * 3\n",
    "print('Combined:', combined_string)\n",
    "print('Duplicated:', duplicated_string)"
   ]
  },
  {
   "cell_type": "code",
   "execution_count": null,
   "id": "648202eb",
   "metadata": {},
   "outputs": [],
   "source": [
    "# Get a character by [offset] and a substring with a slice\n",
    "string_python = 'Python'\n",
    "second_character = string_python[1]\n",
    "substring_python = string_python[1:4]\n",
    "print('Character:', second_character)\n",
    "print('Substring:', substring_python)"
   ]
  },
  {
   "cell_type": "code",
   "execution_count": null,
   "id": "27ae1a0e",
   "metadata": {},
   "outputs": [],
   "source": [
    "# Get length with len()\n",
    "string_python = 'Python'\n",
    "string_length = len(string_python)\n",
    "print('Length:', string_length)"
   ]
  },
  {
   "cell_type": "code",
   "execution_count": null,
   "id": "5a4f264b",
   "metadata": {},
   "outputs": [],
   "source": [
    "# Split with split() and combine with join()\n",
    "word_list = 'a b c'.split()\n",
    "joined_words = '-'.join(word_list)\n",
    "print('Split:', word_list)\n",
    "print('Joined:', joined_words)"
   ]
  },
  {
   "cell_type": "code",
   "execution_count": null,
   "id": "9a538131",
   "metadata": {},
   "outputs": [],
   "source": [
    "# Substitute with replace()\n",
    "substituted_string = 'Hello'.replace('H', 'J')\n",
    "print('Substituted:', substituted_string)"
   ]
  },
  {
   "cell_type": "code",
   "execution_count": null,
   "id": "6bcefd0a",
   "metadata": {},
   "outputs": [],
   "source": [
    "# Work with prefixes and suffixes\n",
    "has_prefix = 'Hello'.startswith('He')\n",
    "has_suffix = 'World'.endswith('ld')\n",
    "print('Prefix:', has_prefix)\n",
    "print('Suffix:', has_suffix)"
   ]
  },
  {
   "cell_type": "code",
   "execution_count": null,
   "id": "8c86cf32",
   "metadata": {},
   "outputs": [],
   "source": [
    "# Strip with strip()\n",
    "stripped_string = '  hello  '.strip()\n",
    "print('Stripped:', stripped_string)"
   ]
  },
  {
   "cell_type": "code",
   "execution_count": null,
   "id": "daa2aa9d",
   "metadata": {},
   "outputs": [],
   "source": [
    "# Search and select\n",
    "is_found = 'e' in 'Hello'\n",
    "found_index = 'Hello'.find('e')\n",
    "print('Found:', is_found)\n",
    "print('Index:', found_index)"
   ]
  },
  {
   "cell_type": "code",
   "execution_count": null,
   "id": "d2e66ec3",
   "metadata": {},
   "outputs": [],
   "source": [
    "# Change case\n",
    "upper_case = 'hello'.upper()\n",
    "lower_case = 'WORLD'.lower()\n",
    "title_case = 'python programming'.title()\n",
    "print('Upper:', upper_case)\n",
    "print('Lower:', lower_case)\n",
    "print('Title:', title_case)"
   ]
  },
  {
   "cell_type": "code",
   "execution_count": null,
   "id": "97e56275",
   "metadata": {},
   "outputs": [],
   "source": [
    "# Set alignment\n",
    "centered_string = 'hello'.center(10, '*')\n",
    "left_aligned = 'hello'.ljust(10, '-')\n",
    "right_aligned = 'world'.rjust(10, '.')\n",
    "print('Centered:', centered_string)\n",
    "print('Left:', left_aligned)\n",
    "print('Right:', right_aligned)"
   ]
  },
  {
   "cell_type": "markdown",
   "id": "bcde6133",
   "metadata": {},
   "source": [
    "**Try it yourself:**\n",
    "\n",
    "Run each code cell above to see how Python handles different string operations. Change the values and experiment with the methods.\n",
    "\n",
    "---\n",
    "\n",
    "### Additional Notes\n",
    "\n",
    "- Use single or double quotes for strings.\n",
    "- Escape quotes with `\\` inside strings.\n",
    "- Slicing uses `[start:end]` and can omit start or end.\n",
    "- `split()` and `join()` are powerful for working with lists of strings.\n",
    "- Alignment methods (`center`, `ljust`, `rjust`) help format output.\n",
    "\n",
    "**Common Mistakes:**\n",
    "- Indexing out of range.\n",
    "- Forgetting to escape quotes.\n",
    "- Mixing string and non-string types without conversion.\n",
    "\n",
    "### Quick Quiz\n",
    "\n",
    "1. How do you create a string with quotes inside it?\n",
    "2. What method splits a string into a list?\n",
    "3. How do you combine a list of strings into one string?\n",
    "4. What does `strip()` do?\n",
    "5. How do you change a string to uppercase?\n",
    "\n",
    "---\n",
    "\n",
    "Ready to move on to Chapter 6?"
   ]
  },
  {
   "cell_type": "markdown",
   "id": "5dbbb0dd",
   "metadata": {},
   "source": [
    "## Chapter 6: If and Match\n",
    "\n",
    "**Core Takeaways:**\n",
    "\n",
    "- Control flow in Python uses `if`, `elif`, and `else` for decision making.\n",
    "- Comments are added with `#` and lines can be continued with `\\`.\n",
    "- Truthiness determines how values are evaluated in conditions.\n",
    "- Multiple comparisons can be made with `in`.\n",
    "- The walrus operator (`:=`) allows assignment within expressions.\n",
    "- The `match` statement (Python 3.10+) enables pattern matching for more complex control flow.\n",
    "\n",
    "**Key Concepts Introduced:**\n",
    "\n",
    "- Comment with `#`\n",
    "- Continue lines with `\\`\n",
    "- Compare with `if`, `elif`, and `else`\n",
    "- What is True? (truthy and falsy values)\n",
    "- Multiple comparisons with `in`\n",
    "- Walrus operator (`:=`)\n",
    "- Pattern matching with `match`\n",
    "\n",
    "**Examples:**"
   ]
  },
  {
   "cell_type": "code",
   "execution_count": null,
   "id": "224283c1",
   "metadata": {},
   "outputs": [],
   "source": [
    "# Comment with #\n",
    "number_value = 10  # This is a comment\n",
    "print(number_value)"
   ]
  },
  {
   "cell_type": "code",
   "execution_count": null,
   "id": "58da3e0a",
   "metadata": {},
   "outputs": [],
   "source": [
    "# Continue lines with \\\n",
    "total_value = 20 \\\n",
    "    + 5\n",
    "print(total_value)"
   ]
  },
  {
   "cell_type": "code",
   "execution_count": null,
   "id": "632fb81b",
   "metadata": {},
   "outputs": [],
   "source": [
    "# Compare with if, elif, and else\n",
    "first_number = 10\n",
    "second_number = 25\n",
    "if first_number < second_number:\n",
    "    print('first_number is less than second_number')\n",
    "elif first_number == second_number:\n",
    "    print('first_number equals second_number')\n",
    "else:\n",
    "    print('first_number is greater than second_number')"
   ]
  },
  {
   "cell_type": "code",
   "execution_count": null,
   "id": "8146570f",
   "metadata": {},
   "outputs": [],
   "source": [
    "# What Is True?\n",
    "if 'hello':\n",
    "    print('Non-empty string is True')\n",
    "if 0:\n",
    "    print('Zero is True')\n",
    "else:\n",
    "    print('Zero is False')"
   ]
  },
  {
   "cell_type": "code",
   "execution_count": null,
   "id": "691edc87",
   "metadata": {},
   "outputs": [],
   "source": [
    "# Do Multiple Comparisons with in\n",
    "color_list = ['red', 'green', 'blue']\n",
    "if 'red' in color_list:\n",
    "    print('Red is in the list')"
   ]
  },
  {
   "cell_type": "code",
   "execution_count": null,
   "id": "a795afe2",
   "metadata": {},
   "outputs": [],
   "source": [
    "# New: I Am the Walrus\n",
    "color_list = ['red', 'green', 'blue']\n",
    "if (color_count := len(color_list)) > 2:\n",
    "    print(f'List has {color_count} items')"
   ]
  },
  {
   "cell_type": "code",
   "execution_count": null,
   "id": "a5061290",
   "metadata": {},
   "outputs": [],
   "source": [
    "# New: match Statement (Python 3.10+)\n",
    "def http_status(status):\n",
    "    match status:\n",
    "        case 400:\n",
    "            return \"Bad request\"\n",
    "        case 404:\n",
    "            return \"Not found\"\n",
    "        case 418:\n",
    "            return \"I'm a teapot\"\n",
    "        case _:\n",
    "            return \"Something's wrong with the internet\"\n",
    "print(http_status(404))"
   ]
  }
 ],
 "metadata": {
  "kernelspec": {
   "display_name": "Python 3",
   "language": "python",
   "name": "python3"
  },
  "language_info": {
   "codemirror_mode": {
    "name": "ipython",
    "version": 3
   },
   "file_extension": ".py",
   "mimetype": "text/x-python",
   "name": "python",
   "nbconvert_exporter": "python",
   "pygments_lexer": "ipython3",
   "version": "3.10.6"
  }
 },
 "nbformat": 4,
 "nbformat_minor": 5
}
