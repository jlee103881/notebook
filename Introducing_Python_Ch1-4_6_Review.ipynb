{
 "cells": [
  {
   "cell_type": "markdown",
   "id": "0706f55f",
   "metadata": {},
   "source": [
    "## Welcome to the Comprehensive Review for INF-103 Midterm.\n",
    "This review should not be used as a substitute for reading the chapters. The reading will provide the detail necessary to understand the chapters content.\n",
    "This review is delivered as a Jupyter notebook. Jupyter notebooks allow us to write text and code examples in separate \"boxes\". The code you will see in this review can be executed right in this notebook.\n",
    "\n",
    "The notebook is normally tied to a Jupyter server. You have a Jupyter server right on your computer if you loaded the Anaconda distribution of Python. However instead of using your local servers, we are delivering this notebook via a container. Containers are lightweight, portable units that package software and all its dependencies, ensuring it runs consistently across different environments. Popular container platforms like Docker allow developers to bundle code, libraries, and system tools together, making deployment and scaling easier and more reliable.\n",
    "\n",
    "Binder.org is a free online service that lets you create and share interactive, reproducible computing environments from code repositories (like GitHub). With Binder, users can launch Jupyter notebooks and other tools in a browser, without installing anything locally. It uses containers to build and run these environments, making collaboration and sharing seamless. The container technology we are using is delivered via binder.org.  Our review is a Jupyter notebook within a container which also contains the operating system and version of Python to run the codeboxes. "
   ]
  },
  {
   "cell_type": "markdown",
   "id": "521a9255",
   "metadata": {},
   "source": [
    "# Introduction to Jupyter Notebooks\n",
    "\n",
    "Jupyter notebooks are interactive documents that combine code, text, and visualizations in a single file. They are widely used for learning, teaching, data analysis, and prototyping.\n",
    "\n",
    "**Benefits of Using Jupyter Notebooks:**\n",
    "- Run code and see results instantly, making experimentation easy.\n",
    "- Mix explanations, code, and output for clear documentation.\n",
    "- Visualize data directly within the notebook.\n",
    "- Share work easily with others.\n",
    "\n",
    "**Notebook Controls and Code Boxes:**\n",
    "- Each code box (cell) can be run independently by clicking the \"Run\" button or pressing `Shift+Enter`.\n",
    "- You can edit code cells and re-run them as many times as you like.\n",
    "- Markdown cells (like this one) are for formatted text, explanations, and instructions.\n",
    "- Use the toolbar to add, delete, or move cells.\n",
    "- Outputs appear directly below the code cell after execution.\n",
    "\n",
    "Explore, experiment, and enjoy learning Python interactively!"
   ]
  },
  {
   "cell_type": "markdown",
   "id": "5be28091",
   "metadata": {},
   "source": [
    "## 🧭 Chapter 1 – Introduction\n",
    "Python is a high-level programming language designed to be readable and efficient.  \n",
    "It mixes **data (nouns)** and **instructions (verbs)** to express computation clearly.  \n",
    "This chapter introduces what programming is, how Python programs look, and how to run them either **interactively** in the Python shell or from a saved `.py` file.  \n",
    "\n",
    "You learned that programming is like writing a recipe — there are ingredients (data) and steps (code).  \n",
    "The chapter also introduces Python’s built-in tools, the standard library, and the interactive interpreter.\n",
    "\n",
    "---\n",
    "\n",
    "### Key Concepts & Explanations\n",
    "1. **Programs and Syntax** – Python uses readable syntax (colons : indentation) to define blocks rather than braces.  \n",
    "2. **Variables** – Names that refer to stored values; they can represent data for later use.  \n",
    "3. **Data Types** – Basic forms of data such as integers, strings, and lists.  \n",
    "4. **The Interpreter** – An interactive shell that executes Python code line by line.  \n",
    "5. **Scripts (.py Files)** – Saved Python programs executed from the command line with `python filename.py`.  \n",
    "6. **Built-in Functions** – Functions like `print()` or `input()` are available without imports.  \n",
    "7. **Standard Library and Imports** – Reusable modules (e.g., `json`, `math`) you can import to extend functionality.\n",
    "\n",
    "---\n",
    "\n",
    "### Common Mistakes\n",
    "- Forgetting quotation marks around text → `print(Hello)` causes a `NameError`.  \n",
    "- Forgetting colons or indentation in control structures.  \n",
    "- Saving files with rich-text editors (Word) instead of plain text.  \n",
    "- Confusing assignment `=` with equality `==`.\n",
    "\n",
    "---\n",
    "\n",
    "### Study Questions\n",
    "1. What’s the difference between running Python interactively vs. as a script?  \n",
    "2. Why is indentation required in Python?  \n",
    "3. What is a variable, and how does Python treat it?  \n",
    "4. What command displays text output on-screen?  \n"
   ]
  },
  {
   "cell_type": "code",
   "execution_count": null,
   "id": "aa01e576",
   "metadata": {},
   "outputs": [],
   "source": [
    "print(\"Hello, Python!\")   # Prints a simple message to the screen"
   ]
  },
  {
   "cell_type": "code",
   "execution_count": null,
   "id": "17748a5d",
   "metadata": {},
   "outputs": [],
   "source": [
    "user_name = input(\"What is your name? \")\n",
    "print(\"Welcome to Python,\", user_name)"
   ]
  },
  {
   "cell_type": "code",
   "execution_count": null,
   "id": "beaeeb30",
   "metadata": {},
   "outputs": [],
   "source": [
    "import webbrowser\n",
    "webbrowser.open(\"https://www.python.org\")  # Opens the Python website"
   ]
  },
  {
   "cell_type": "markdown",
   "id": "5da54c89",
   "metadata": {},
   "source": [
    "## 🧩 Chapter 2 – Types and Variables\n",
    "This chapter explains how computers store data and how Python organizes that data using **types** and **variables**.  \n",
    "Every value in Python has a type, such as `int`, `float`, `str`, or `bool`.  \n",
    "A **variable** is simply a name that refers to an object in memory.  \n",
    "Python uses **dynamic typing**, so the type is determined at runtime and can change.\n",
    "\n",
    "You also learned naming conventions, mutability, and how variables act as labels pointing to objects in memory — not containers as in some other languages.\n",
    "\n",
    "---\n",
    "\n",
    "### Key Concepts & Explanations\n",
    "1. **Variables as Names** – Variables point to data in memory; they don’t physically contain it.  \n",
    "2. **Assignment** – `=` creates a link between a name and a value.  \n",
    "3. **Data Types** – Integers, floats, booleans, and strings each store different forms of data.  \n",
    "4. **Type Checking** – Use `type()` to inspect the type of a value.  \n",
    "5. **Naming Rules** – Variable names must start with a letter or underscore and can contain letters and numbers.  \n",
    "6. **Mutability** – Some data types (strings, tuples) are immutable; others (lists, dicts) are mutable.\n",
    "\n",
    "---\n",
    "\n",
    "### Common Mistakes\n",
    "- Using invalid variable names (e.g., starting with numbers).  \n",
    "- Forgetting quotes around strings.  \n",
    "- Mixing types in expressions without conversion.  \n",
    "- Assuming assignment copies values instead of references.\n",
    "\n",
    "---\n",
    "\n",
    "### Study Questions\n",
    "1. How does Python treat variables differently from C or Java?  \n",
    "2. What’s the difference between mutable and immutable types?  \n",
    "3. Why does `type(42)` return `int`?  \n",
    "4. What happens when you assign one variable to another?\n"
   ]
  },
  {
   "cell_type": "code",
   "execution_count": null,
   "id": "430446a7",
   "metadata": {},
   "outputs": [],
   "source": [
    "favorite_color = \"blue\"\n",
    "lucky_number = 7\n",
    "pi_value = 3.14159\n",
    "is_programmer = True\n",
    "print(f\"My favorite color is {favorite_color}, lucky number is {lucky_number}, and π ≈ {pi_value}\")"
   ]
  },
  {
   "cell_type": "code",
   "execution_count": null,
   "id": "127c4484",
   "metadata": {},
   "outputs": [],
   "source": [
    "print(type(favorite_color))\n",
    "print(type(lucky_number))\n",
    "print(type(pi_value))\n",
    "print(type(is_programmer))"
   ]
  },
  {
   "cell_type": "code",
   "execution_count": null,
   "id": "1c276381",
   "metadata": {},
   "outputs": [],
   "source": [
    "value = 100\n",
    "print(\"Initially value is\", value)\n",
    "value = \"Now I am a string\"\n",
    "print(\"After reassignment:\", value)"
   ]
  },
  {
   "cell_type": "markdown",
   "id": "d288f272",
   "metadata": {},
   "source": [
    "## 🔢 Chapter 3 – Numbers\n",
    "Numbers are fundamental in Python. This chapter covers **integers**, **floats**, **booleans**, and **numeric operations**.  \n",
    "Python handles arithmetic automatically and can represent very large integers and precise decimals.  \n",
    "\n",
    "Key operations include addition, subtraction, multiplication, division, exponentiation, and modulus.  \n",
    "The chapter also introduces fractions, decimals, and math functions from Python’s `math` module.\n",
    "\n",
    "---\n",
    "\n",
    "### Key Concepts & Explanations\n",
    "1. **Integers and Floats** – Whole numbers vs. numbers with decimal points.  \n",
    "2. **Operators** – `+`, `-`, `*`, `/`, `%`, `**` perform arithmetic.  \n",
    "3. **Operator Precedence** – Follows standard math rules (PEMDAS).  \n",
    "4. **Type Conversion** – Convert between types using `int()`, `float()`, `str()`.  \n",
    "5. **Math Functions** – Use `import math` for functions like `sqrt()`, `sin()`, `cos()`.  \n",
    "6. **Floating-Point Precision** – Some fractions cannot be represented exactly in binary.  \n",
    "\n",
    "---\n",
    "\n",
    "### Common Mistakes\n",
    "- Dividing by zero.  \n",
    "- Expecting `0.1 + 0.2 == 0.3` to be `True` (due to binary precision issues).  \n",
    "- Mixing integers and strings without conversion.  \n",
    "- Forgetting that `//` does integer division.\n",
    "\n",
    "---\n",
    "\n",
    "### Study Questions\n",
    "1. What’s the difference between `/` and `//`?  \n",
    "2. Why does `0.1 + 0.2 != 0.3`?  \n",
    "3. When would you use `math.ceil()` vs. `math.floor()`?  \n",
    "4. How do you convert a string to a number?\n"
   ]
  },
  {
   "cell_type": "code",
   "execution_count": null,
   "id": "740b6c26",
   "metadata": {},
   "outputs": [],
   "source": [
    "sum_value = 10 + 5\n",
    "difference = 10 - 5\n",
    "product = 10 * 5\n",
    "quotient = 10 / 3\n",
    "floor_division = 10 // 3\n",
    "remainder = 10 % 3\n",
    "power = 2 ** 5\n",
    "print(sum_value, difference, product, quotient, floor_division, remainder, power)"
   ]
  },
  {
   "cell_type": "code",
   "execution_count": null,
   "id": "48180b19",
   "metadata": {},
   "outputs": [],
   "source": [
    "number_as_string = \"123\"\n",
    "converted_number = int(number_as_string)\n",
    "print(converted_number + 10)"
   ]
  },
  {
   "cell_type": "code",
   "execution_count": null,
   "id": "4fc26917",
   "metadata": {},
   "outputs": [],
   "source": [
    "import math\n",
    "radius = 5\n",
    "area_of_circle = math.pi * (radius ** 2)\n",
    "print(\"Area of circle:\", area_of_circle)"
   ]
  },
  {
   "cell_type": "markdown",
   "id": "9d878bae",
   "metadata": {},
   "source": [
    "## 🔤 Chapter 4 – Strings\n",
    "Strings represent text data in Python and are enclosed in quotes (single or double).  \n",
    "This chapter shows how to create, combine, split, slice, and format strings.  \n",
    "Strings are **immutable**, meaning they cannot be changed after creation.  \n",
    "\n",
    "You also learned string methods like `upper()`, `lower()`, `replace()`, `split()`, and `join()`, and different ways to format strings with f-strings.\n",
    "\n",
    "---\n",
    "\n",
    "### Key Concepts & Explanations\n",
    "1. **Creating Strings** – Use quotes or the `str()` function.  \n",
    "2. **Concatenation and Repetition** – Use `+` to join, `*` to repeat.  \n",
    "3. **Indexing and Slicing** – Access characters by index (`text[0]`) and substrings (`text[0:3]`).  \n",
    "4. **String Methods** – Built-in functions that manipulate text.  \n",
    "5. **Formatting Strings** – Use f-strings for clarity (e.g., `f\"Hello {name}\"`).  \n",
    "6. **Escaping Characters** – Backslash `\\` to insert special characters like `\\n`.\n",
    "\n",
    "---\n",
    "\n",
    "### Common Mistakes\n",
    "- Forgetting quotes around text data.  \n",
    "- Mixing single and double quotes incorrectly.  \n",
    "- Assuming strings are mutable.  \n",
    "- Forgetting to cast numbers to strings before concatenation.\n",
    "\n",
    "---\n",
    "\n",
    "### Study Questions\n",
    "1. How do you get the length of a string?  \n",
    "2. How can you extract a substring from a string?  \n",
    "3. Why are strings immutable?  \n",
    "4. How can you insert variables into strings using f-strings?\n"
   ]
  },
  {
   "cell_type": "code",
   "execution_count": null,
   "id": "c5e74148",
   "metadata": {},
   "outputs": [],
   "source": [
    "first_name = \"Ada\"\n",
    "last_name = \"Lovelace\"\n",
    "full_name = first_name + \" \" + last_name\n",
    "print(full_name)"
   ]
  },
  {
   "cell_type": "code",
   "execution_count": null,
   "id": "93e4592f",
   "metadata": {},
   "outputs": [],
   "source": [
    "message = \"  Python Programming is fun!  \"\n",
    "print(message.strip())\n",
    "print(message.lower())\n",
    "print(message.upper())\n",
    "print(message.replace(\"fun\", \"powerful\"))"
   ]
  },
  {
   "cell_type": "code",
   "execution_count": null,
   "id": "8b4ecec4",
   "metadata": {},
   "outputs": [],
   "source": [
    "text = \"Python\"\n",
    "print(text[0])\n",
    "print(text[1:4])\n",
    "print(f\"The word {text} has {len(text)} letters.\")"
   ]
  },
  {
   "cell_type": "markdown",
   "id": "133b0d59",
   "metadata": {},
   "source": [
    "## 🧠 Chapter 6 – If and Match\n",
    "Control structures let you make decisions in your code.  \n",
    "The `if`, `elif`, and `else` statements choose which block to execute based on conditions.  \n",
    "Python also introduces the `match` statement (3.10+) for pattern matching — a cleaner way to handle multiple cases.\n",
    "\n",
    "Truth values (`True` and `False`) are central to decision-making.  \n",
    "Comparison operators (`==`, `!=`, `>`, `<`, `>=`, `<=`) and membership operators (`in`, `not in`) evaluate expressions to booleans.\n",
    "\n",
    "---\n",
    "\n",
    "### Key Concepts & Explanations\n",
    "1. **If Statements** – Run code if a condition is true.  \n",
    "2. **Elif and Else** – Provide alternative paths.  \n",
    "3. **Comparison Operators** – Used to compare values.  \n",
    "4. **Logical Operators** – `and`, `or`, `not` combine conditions.  \n",
    "5. **Membership Testing** – Use `in` to check if a value exists in a sequence.  \n",
    "6. **Match Statement** – Pattern matching for clean multi-branch decisions.\n",
    "\n",
    "---\n",
    "\n",
    "### Common Mistakes\n",
    "- Forgetting a colon after `if` or `elif`.  \n",
    "- Using `=` instead of `==`.  \n",
    "- Mis-indenting blocks.  \n",
    "- Forgetting `case _:` in match statements.\n",
    "\n",
    "---\n",
    "\n",
    "### Study Questions\n",
    "1. What is the difference between `if` and `elif`?  \n",
    "2. How does the `match` statement simplify multi-case logic?  \n",
    "3. When is an empty string or list considered False?  \n",
    "4. How can you chain comparisons in Python?\n"
   ]
  },
  {
   "cell_type": "code",
   "execution_count": null,
   "id": "d5da849a",
   "metadata": {},
   "outputs": [],
   "source": [
    "temperature = 30\n",
    "if temperature > 32:\n",
    "    print(\"It's hot outside.\")\n",
    "else:\n",
    "    print(\"It's cool today.\")"
   ]
  },
  {
   "cell_type": "code",
   "execution_count": null,
   "id": "358849bb",
   "metadata": {},
   "outputs": [],
   "source": [
    "score = 85\n",
    "if score >= 90:\n",
    "    print(\"Grade: A\")\n",
    "elif score >= 80:\n",
    "    print(\"Grade: B\")\n",
    "elif score >= 70:\n",
    "    print(\"Grade: C\")\n",
    "else:\n",
    "    print(\"Grade: Needs improvement\")"
   ]
  },
  {
   "cell_type": "code",
   "execution_count": null,
   "id": "009c319a",
   "metadata": {},
   "outputs": [],
   "source": [
    "fruits = [\"apple\", \"banana\", \"cherry\"]\n",
    "if \"banana\" in fruits:\n",
    "    print(\"Banana is in the list.\")"
   ]
  },
  {
   "cell_type": "code",
   "execution_count": null,
   "id": "a2dcb1de",
   "metadata": {},
   "outputs": [],
   "source": [
    "status_code = 404\n",
    "match status_code:\n",
    "    case 200:\n",
    "        print(\"OK – Request succeeded.\")\n",
    "    case 404:\n",
    "        print(\"Not Found – Check URL.\")\n",
    "    case 500:\n",
    "        print(\"Server Error.\")\n",
    "    case _:\n",
    "        print(\"Unknown status code.\")"
   ]
  }
 ],
 "metadata": {
  "language_info": {
   "name": "python"
  }
 },
 "nbformat": 4,
 "nbformat_minor": 5
}
